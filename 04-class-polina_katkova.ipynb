{
 "cells": [
  {
   "cell_type": "markdown",
   "metadata": {},
   "source": [
    "# Лабораторная 4 - Классификация в sklearn + метрики классификации\n"
   ]
  },
  {
   "cell_type": "markdown",
   "metadata": {},
   "source": [
    "### Каткова Полина\n"
   ]
  },
  {
   "cell_type": "markdown",
   "metadata": {},
   "source": [
    "Ссылка https://www.kaggle.com/uciml/student-alcohol-consumption\n",
    "\n",
    "Датасет по детской алкогольной зависимости\n",
    "\n",
    "school - student's school (binary: 'GP' - Gabriel Pereira or 'MS' - Mousinho da Silveira)\n",
    "\n",
    "sex - student's sex (binary: 'F' - female or 'M' - male)\n",
    "\n",
    "age - student's age (numeric: from 15 to 22)\n",
    "\n",
    "address - student's home address type (binary: 'U' - urban or 'R' - rural)\n",
    "\n",
    "famsize - family size (binary: 'LE3' - less or equal to 3 or 'GT3' - greater than 3)\n",
    "\n",
    "Pstatus - parent's cohabitation status (binary: 'T' - living together or 'A' - apart)\n",
    "\n",
    "Medu - mother's education (numeric: 0 - none, 1 - primary education (4th grade), 2 – 5th to 9th grade, 3 – secondary education or 4 – higher education)\n",
    "\n",
    "Fedu - father's education (numeric: 0 - none, 1 - primary education (4th grade), 2 – 5th to 9th grade, 3 – secondary education or 4 – higher education)\n",
    "\n",
    "Mjob - mother's job (nominal: 'teacher', 'health' care related, civil 'services' (e.g. administrative or police), 'at_home' or 'other')\n",
    "\n",
    "Fjob - father's job (nominal: 'teacher', 'health' care related, civil 'services' (e.g. administrative or police), 'at_home' or 'other')\n",
    "\n",
    "reason - reason to choose this school (nominal: close to 'home', school 'reputation', 'course' preference or 'other')\n",
    "\n",
    "guardian - student's guardian (nominal: 'mother', 'father' or 'other')\n",
    "\n",
    "traveltime - home to school travel time (numeric: 1 - 1 hour)\n",
    "\n",
    "studytime - weekly study time (numeric: 1 - 10 hours)\n",
    "\n",
    "failures - number of past class failures (numeric: n if 1<=n<3, else 4)\n",
    "\n",
    "schoolsup - extra educational support (binary: yes or no)\n",
    "\n",
    "famsup - family educational support (binary: yes or no)\n",
    "\n",
    "paid - extra paid classes within the course subject (Math or Portuguese) (binary: yes or no)\n",
    "\n",
    "activities - extra-curricular activities (binary: yes or no)\n",
    "\n",
    "nursery - attended nursery school (binary: yes or no)\n",
    "\n",
    "higher - wants to take higher education (binary: yes or no)\n",
    "\n",
    "internet - Internet access at home (binary: yes or no)\n",
    "\n",
    "romantic - with a romantic relationship (binary: yes or no)\n",
    "\n",
    "famrel - quality of family relationships (numeric: from 1 - very bad to 5 - excellent)\n",
    "\n",
    "freetime - free time after school (numeric: from 1 - very low to 5 - very high)\n",
    "\n",
    "goout - going out with friends (numeric: from 1 - very low to 5 - very high)\n",
    "\n",
    "Dalc - workday alcohol consumption (numeric: from 1 - very low to 5 - very high)\n",
    "\n",
    "Walc - weekend alcohol consumption (numeric: from 1 - very low to 5 - very high)\n",
    "\n",
    "health - current health status (numeric: from 1 - very bad to 5 - very good)\n",
    "\n",
    "absences - number of school absences (numeric: from 0 to 93)\n",
    "\n",
    "G1 - first period grade (numeric: from 0 to 20)\n",
    "\n",
    "G2 - second period grade (numeric: from 0 to 20)\n",
    "\n",
    "G3 - final grade (numeric: from 0 to 20, output target)"
   ]
  },
  {
   "cell_type": "code",
   "execution_count": 1,
   "metadata": {},
   "outputs": [],
   "source": [
    "import pandas as pd\n",
    "import numpy as np\n",
    "import sklearn, sklearn.model_selection, sklearn.neighbors, sklearn.svm"
   ]
  },
  {
   "cell_type": "code",
   "execution_count": 2,
   "metadata": {},
   "outputs": [],
   "source": [
    "import warnings\n",
    "warnings.filterwarnings('ignore')"
   ]
  },
  {
   "cell_type": "code",
   "execution_count": 3,
   "metadata": {},
   "outputs": [],
   "source": [
    "#считывем данные\n",
    "df = pd.read_csv('student-mat.csv')"
   ]
  },
  {
   "cell_type": "code",
   "execution_count": 4,
   "metadata": {},
   "outputs": [
    {
     "data": {
      "text/html": [
       "<div>\n",
       "<style scoped>\n",
       "    .dataframe tbody tr th:only-of-type {\n",
       "        vertical-align: middle;\n",
       "    }\n",
       "\n",
       "    .dataframe tbody tr th {\n",
       "        vertical-align: top;\n",
       "    }\n",
       "\n",
       "    .dataframe thead th {\n",
       "        text-align: right;\n",
       "    }\n",
       "</style>\n",
       "<table border=\"1\" class=\"dataframe\">\n",
       "  <thead>\n",
       "    <tr style=\"text-align: right;\">\n",
       "      <th></th>\n",
       "      <th>school</th>\n",
       "      <th>sex</th>\n",
       "      <th>age</th>\n",
       "      <th>address</th>\n",
       "      <th>famsize</th>\n",
       "      <th>Pstatus</th>\n",
       "      <th>Medu</th>\n",
       "      <th>Fedu</th>\n",
       "      <th>Mjob</th>\n",
       "      <th>Fjob</th>\n",
       "      <th>...</th>\n",
       "      <th>famrel</th>\n",
       "      <th>freetime</th>\n",
       "      <th>goout</th>\n",
       "      <th>Dalc</th>\n",
       "      <th>Walc</th>\n",
       "      <th>health</th>\n",
       "      <th>absences</th>\n",
       "      <th>G1</th>\n",
       "      <th>G2</th>\n",
       "      <th>G3</th>\n",
       "    </tr>\n",
       "  </thead>\n",
       "  <tbody>\n",
       "    <tr>\n",
       "      <td>0</td>\n",
       "      <td>GP</td>\n",
       "      <td>F</td>\n",
       "      <td>18</td>\n",
       "      <td>U</td>\n",
       "      <td>GT3</td>\n",
       "      <td>A</td>\n",
       "      <td>4</td>\n",
       "      <td>4</td>\n",
       "      <td>at_home</td>\n",
       "      <td>teacher</td>\n",
       "      <td>...</td>\n",
       "      <td>4</td>\n",
       "      <td>3</td>\n",
       "      <td>4</td>\n",
       "      <td>1</td>\n",
       "      <td>1</td>\n",
       "      <td>3</td>\n",
       "      <td>6</td>\n",
       "      <td>5</td>\n",
       "      <td>6</td>\n",
       "      <td>6</td>\n",
       "    </tr>\n",
       "    <tr>\n",
       "      <td>1</td>\n",
       "      <td>GP</td>\n",
       "      <td>F</td>\n",
       "      <td>17</td>\n",
       "      <td>U</td>\n",
       "      <td>GT3</td>\n",
       "      <td>T</td>\n",
       "      <td>1</td>\n",
       "      <td>1</td>\n",
       "      <td>at_home</td>\n",
       "      <td>other</td>\n",
       "      <td>...</td>\n",
       "      <td>5</td>\n",
       "      <td>3</td>\n",
       "      <td>3</td>\n",
       "      <td>1</td>\n",
       "      <td>1</td>\n",
       "      <td>3</td>\n",
       "      <td>4</td>\n",
       "      <td>5</td>\n",
       "      <td>5</td>\n",
       "      <td>6</td>\n",
       "    </tr>\n",
       "    <tr>\n",
       "      <td>2</td>\n",
       "      <td>GP</td>\n",
       "      <td>F</td>\n",
       "      <td>15</td>\n",
       "      <td>U</td>\n",
       "      <td>LE3</td>\n",
       "      <td>T</td>\n",
       "      <td>1</td>\n",
       "      <td>1</td>\n",
       "      <td>at_home</td>\n",
       "      <td>other</td>\n",
       "      <td>...</td>\n",
       "      <td>4</td>\n",
       "      <td>3</td>\n",
       "      <td>2</td>\n",
       "      <td>2</td>\n",
       "      <td>3</td>\n",
       "      <td>3</td>\n",
       "      <td>10</td>\n",
       "      <td>7</td>\n",
       "      <td>8</td>\n",
       "      <td>10</td>\n",
       "    </tr>\n",
       "    <tr>\n",
       "      <td>3</td>\n",
       "      <td>GP</td>\n",
       "      <td>F</td>\n",
       "      <td>15</td>\n",
       "      <td>U</td>\n",
       "      <td>GT3</td>\n",
       "      <td>T</td>\n",
       "      <td>4</td>\n",
       "      <td>2</td>\n",
       "      <td>health</td>\n",
       "      <td>services</td>\n",
       "      <td>...</td>\n",
       "      <td>3</td>\n",
       "      <td>2</td>\n",
       "      <td>2</td>\n",
       "      <td>1</td>\n",
       "      <td>1</td>\n",
       "      <td>5</td>\n",
       "      <td>2</td>\n",
       "      <td>15</td>\n",
       "      <td>14</td>\n",
       "      <td>15</td>\n",
       "    </tr>\n",
       "    <tr>\n",
       "      <td>4</td>\n",
       "      <td>GP</td>\n",
       "      <td>F</td>\n",
       "      <td>16</td>\n",
       "      <td>U</td>\n",
       "      <td>GT3</td>\n",
       "      <td>T</td>\n",
       "      <td>3</td>\n",
       "      <td>3</td>\n",
       "      <td>other</td>\n",
       "      <td>other</td>\n",
       "      <td>...</td>\n",
       "      <td>4</td>\n",
       "      <td>3</td>\n",
       "      <td>2</td>\n",
       "      <td>1</td>\n",
       "      <td>2</td>\n",
       "      <td>5</td>\n",
       "      <td>4</td>\n",
       "      <td>6</td>\n",
       "      <td>10</td>\n",
       "      <td>10</td>\n",
       "    </tr>\n",
       "  </tbody>\n",
       "</table>\n",
       "<p>5 rows × 33 columns</p>\n",
       "</div>"
      ],
      "text/plain": [
       "  school sex  age address famsize Pstatus  Medu  Fedu     Mjob      Fjob  ...  \\\n",
       "0     GP   F   18       U     GT3       A     4     4  at_home   teacher  ...   \n",
       "1     GP   F   17       U     GT3       T     1     1  at_home     other  ...   \n",
       "2     GP   F   15       U     LE3       T     1     1  at_home     other  ...   \n",
       "3     GP   F   15       U     GT3       T     4     2   health  services  ...   \n",
       "4     GP   F   16       U     GT3       T     3     3    other     other  ...   \n",
       "\n",
       "  famrel freetime  goout  Dalc  Walc health absences  G1  G2  G3  \n",
       "0      4        3      4     1     1      3        6   5   6   6  \n",
       "1      5        3      3     1     1      3        4   5   5   6  \n",
       "2      4        3      2     2     3      3       10   7   8  10  \n",
       "3      3        2      2     1     1      5        2  15  14  15  \n",
       "4      4        3      2     1     2      5        4   6  10  10  \n",
       "\n",
       "[5 rows x 33 columns]"
      ]
     },
     "execution_count": 4,
     "metadata": {},
     "output_type": "execute_result"
    }
   ],
   "source": [
    "# выводим первые 5 записей\n",
    "df.head()"
   ]
  },
  {
   "cell_type": "markdown",
   "metadata": {},
   "source": [
    "### 1.1 На любом датасете продемонстрировать многоклассовую классификацию с помощью ЛЮБОГО алгоритма. Оценить accuracy."
   ]
  },
  {
   "cell_type": "code",
   "execution_count": 5,
   "metadata": {},
   "outputs": [
    {
     "name": "stdout",
     "output_type": "stream",
     "text": [
      "4\n"
     ]
    }
   ],
   "source": [
    "# Выбираем исходные и целевые колонки \n",
    "# Будем классифицировать количество употребления алкоголя в буднии в зависимости от кол-ва употребления алкоголя на выходных, времени обучения, \n",
    "# плохих результатов в школе и доп занятий\n",
    "df= df.dropna()\n",
    "df.activities = pd.factorize(df.activities)[0]\n",
    "X = df[['studytime', 'Walc' ,'failures', 'activities']]\n",
    "print(X.shape[1])\n",
    "y = df['Dalc']"
   ]
  },
  {
   "cell_type": "code",
   "execution_count": 6,
   "metadata": {},
   "outputs": [],
   "source": [
    "# делим данные на тестовые и обучающие \n",
    "X_train, X_test, y_train, y_test = sklearn.model_selection.train_test_split(\n",
    "   X , y, random_state = 99\n",
    ")"
   ]
  },
  {
   "cell_type": "code",
   "execution_count": 7,
   "metadata": {},
   "outputs": [
    {
     "name": "stdout",
     "output_type": "stream",
     "text": [
      "форма массива X_train: (296, 4)\n",
      "форма массива y_train: (296,)\n",
      "форма массива X_test: (99, 4)\n",
      "форма массива y_test: (99,)\n"
     ]
    }
   ],
   "source": [
    "# выводим размерности полученных массивов\n",
    "print(\"форма массива X_train: {}\".format(X_train.shape))\n",
    "print(\"форма массива y_train: {}\".format(y_train.shape))\n",
    "print(\"форма массива X_test: {}\".format(X_test.shape))\n",
    "print(\"форма массива y_test: {}\".format(y_test.shape))"
   ]
  },
  {
   "cell_type": "code",
   "execution_count": 8,
   "metadata": {},
   "outputs": [
    {
     "data": {
      "text/plain": [
       "KNeighborsClassifier(algorithm='auto', leaf_size=30, metric='minkowski',\n",
       "                     metric_params=None, n_jobs=None, n_neighbors=50, p=2,\n",
       "                     weights='uniform')"
      ]
     },
     "execution_count": 8,
     "metadata": {},
     "output_type": "execute_result"
    }
   ],
   "source": [
    "# создаем модель knn с n_neighbors 35 \n",
    "from sklearn.neighbors import KNeighborsClassifier\n",
    "knn = KNeighborsClassifier( n_neighbors = 50 )\n",
    "knn"
   ]
  },
  {
   "cell_type": "code",
   "execution_count": 9,
   "metadata": {},
   "outputs": [
    {
     "data": {
      "text/plain": [
       "KNeighborsClassifier(algorithm='auto', leaf_size=30, metric='minkowski',\n",
       "                     metric_params=None, n_jobs=None, n_neighbors=50, p=2,\n",
       "                     weights='uniform')"
      ]
     },
     "execution_count": 9,
     "metadata": {},
     "output_type": "execute_result"
    }
   ],
   "source": [
    "# строим модель на обучающем наборе\n",
    "knn.fit( np.array(X_train).reshape(-1, X.shape[1]), np.array(y_train).reshape(-1,1) )"
   ]
  },
  {
   "cell_type": "code",
   "execution_count": 10,
   "metadata": {},
   "outputs": [
    {
     "name": "stdout",
     "output_type": "stream",
     "text": [
      "Прогнозы для тестового набора:\n",
      "[1 1 1 1 3 1 1 1 1 1 2 1 1 1 1 1 1 1 1 1 2 3 1 1 1 1 1 1 3 1 1 1 1 1 1 1 2\n",
      " 1 1 1 1 1 1 1 1 1 1 1 1 1 1 1 1 1 1 1 1 1 1 1 1 1 1 1 1 1 1 2 1 1 1 1 2 1\n",
      " 1 1 1 1 1 1 1 2 1 1 1 1 1 1 1 2 1 2 1 1 1 1 1 1 1]\n"
     ]
    }
   ],
   "source": [
    "# классифицируем на тестовой выборке\n",
    "y_pred = (knn.predict(np.array(X_test).reshape(-1, X.shape[1])))\n",
    "print(\"Прогнозы для тестового набора:\", y_pred, sep = '\\n')"
   ]
  },
  {
   "cell_type": "code",
   "execution_count": 11,
   "metadata": {},
   "outputs": [
    {
     "data": {
      "text/plain": [
       "0.7575757575757576"
      ]
     },
     "execution_count": 11,
     "metadata": {},
     "output_type": "execute_result"
    }
   ],
   "source": [
    "# выводим accuracy\n",
    "sklearn.metrics.accuracy_score( y_pred, y_test )"
   ]
  },
  {
   "cell_type": "markdown",
   "metadata": {},
   "source": [
    "Попробовать также вариант с предварительной нормализацией признаков. Оценить метрики качества в случае с нормализованными признаками и ненормализованными."
   ]
  },
  {
   "cell_type": "code",
   "execution_count": 12,
   "metadata": {},
   "outputs": [],
   "source": [
    "# получаем объект для нормализации\n",
    "from sklearn.preprocessing import StandardScaler\n",
    "scaler = StandardScaler()"
   ]
  },
  {
   "cell_type": "code",
   "execution_count": 13,
   "metadata": {},
   "outputs": [
    {
     "data": {
      "text/plain": [
       "0      2\n",
       "1      2\n",
       "2      2\n",
       "3      3\n",
       "4      2\n",
       "      ..\n",
       "390    2\n",
       "391    1\n",
       "392    1\n",
       "393    1\n",
       "394    1\n",
       "Name: studytime, Length: 395, dtype: int64"
      ]
     },
     "execution_count": 13,
     "metadata": {},
     "output_type": "execute_result"
    }
   ],
   "source": [
    "# значения studytime до нормализации\n",
    "df.studytime"
   ]
  },
  {
   "cell_type": "code",
   "execution_count": 14,
   "metadata": {},
   "outputs": [],
   "source": [
    "# нормализуем значения studytime\n",
    "norm=df.studytime\n",
    "scaler.fit(np.array(norm).reshape(-1,1))\n",
    "norm2 = (scaler.transform(np.array(norm).reshape(-1,1)))"
   ]
  },
  {
   "cell_type": "code",
   "execution_count": 15,
   "metadata": {},
   "outputs": [],
   "source": [
    "# нормализуем значения Walc\n",
    "norm=df.Walc\n",
    "scaler.fit(np.array(norm).reshape(-1,1))\n",
    "norm1 = (scaler.transform(np.array(norm).reshape(-1,1)))"
   ]
  },
  {
   "cell_type": "code",
   "execution_count": 16,
   "metadata": {},
   "outputs": [],
   "source": [
    "# нормализуем значения failures\n",
    "norm=df.failures\n",
    "scaler.fit(np.array(norm).reshape(-1,1))\n",
    "norm3 = (scaler.transform(np.array(norm).reshape(-1,1)))"
   ]
  },
  {
   "cell_type": "code",
   "execution_count": 17,
   "metadata": {},
   "outputs": [],
   "source": [
    "# нормализуем значения activities\n",
    "norm=df.activities\n",
    "scaler.fit(np.array(norm).reshape(-1,1))\n",
    "norm4 = (scaler.transform(np.array(norm).reshape(-1,1)))"
   ]
  },
  {
   "cell_type": "code",
   "execution_count": 18,
   "metadata": {},
   "outputs": [
    {
     "data": {
      "text/plain": [
       "0     -0.042286\n",
       "1     -0.042286\n",
       "2     -0.042286\n",
       "3      1.150779\n",
       "4     -0.042286\n",
       "         ...   \n",
       "390   -0.042286\n",
       "391   -1.235351\n",
       "392   -1.235351\n",
       "393   -1.235351\n",
       "394   -1.235351\n",
       "Name: studytime, Length: 395, dtype: float64"
      ]
     },
     "execution_count": 18,
     "metadata": {},
     "output_type": "execute_result"
    }
   ],
   "source": [
    "df.studytime = norm2\n",
    "df.Walc = norm1\n",
    "df.failures = norm3\n",
    "df.activities = norm4\n",
    "df.studytime\n",
    "# нормализованные значения  studytime"
   ]
  },
  {
   "cell_type": "code",
   "execution_count": 19,
   "metadata": {},
   "outputs": [],
   "source": [
    "# еще раз выбираем исходные и целевые колонки \n",
    "X = df[['studytime', 'Walc' ,'failures', 'activities']]\n",
    "y = df['Dalc']"
   ]
  },
  {
   "cell_type": "code",
   "execution_count": 20,
   "metadata": {},
   "outputs": [],
   "source": [
    "# делим данные на тестовые и обучающие \n",
    "X_train, X_test, y_train, y_test = sklearn.model_selection.train_test_split(\n",
    "   X , y, random_state = 99\n",
    ")"
   ]
  },
  {
   "cell_type": "code",
   "execution_count": 21,
   "metadata": {},
   "outputs": [
    {
     "data": {
      "text/plain": [
       "KNeighborsClassifier(algorithm='auto', leaf_size=30, metric='minkowski',\n",
       "                     metric_params=None, n_jobs=None, n_neighbors=35, p=2,\n",
       "                     weights='uniform')"
      ]
     },
     "execution_count": 21,
     "metadata": {},
     "output_type": "execute_result"
    }
   ],
   "source": [
    "# создаем модель knn с n_neighbors 35 \n",
    "from sklearn.neighbors import KNeighborsClassifier\n",
    "knn = KNeighborsClassifier( n_neighbors = 35 )\n",
    "knn"
   ]
  },
  {
   "cell_type": "code",
   "execution_count": 22,
   "metadata": {},
   "outputs": [
    {
     "data": {
      "text/plain": [
       "KNeighborsClassifier(algorithm='auto', leaf_size=30, metric='minkowski',\n",
       "                     metric_params=None, n_jobs=None, n_neighbors=35, p=2,\n",
       "                     weights='uniform')"
      ]
     },
     "execution_count": 22,
     "metadata": {},
     "output_type": "execute_result"
    }
   ],
   "source": [
    "# строим модель на обучающем наборе\n",
    "knn.fit( np.array(X_train).reshape(-1,X.shape[1]), np.array(y_train).reshape(-1,1) )"
   ]
  },
  {
   "cell_type": "code",
   "execution_count": 23,
   "metadata": {},
   "outputs": [
    {
     "data": {
      "text/plain": [
       "0.7575757575757576"
      ]
     },
     "execution_count": 23,
     "metadata": {},
     "output_type": "execute_result"
    }
   ],
   "source": [
    "# Выводим accuracy. Метрика не изменилась в результате нормализации\n",
    "sklearn.metrics.accuracy_score( y_pred, y_test )"
   ]
  },
  {
   "cell_type": "markdown",
   "metadata": {},
   "source": [
    "### 1.2 На любом датасете продемонстрировать многоклассовую классификацию с помощью ЛЮБОГО алгоритма  с использованием кросс-валидации. Оценить accuracy."
   ]
  },
  {
   "cell_type": "code",
   "execution_count": 24,
   "metadata": {},
   "outputs": [],
   "source": [
    "# создадим классификатор kNN (n=35)\n",
    "clf = sklearn.neighbors.KNeighborsClassifier( n_neighbors = 35 )"
   ]
  },
  {
   "cell_type": "code",
   "execution_count": 25,
   "metadata": {},
   "outputs": [],
   "source": [
    "#получим метрики на кросс-валидации\n",
    "scores = sklearn.model_selection.cross_val_score( clf, (np.array(X).reshape(-1,X.shape[1])), (np.array(y).reshape(-1,1)), cv = 3 )"
   ]
  },
  {
   "cell_type": "code",
   "execution_count": 26,
   "metadata": {},
   "outputs": [
    {
     "data": {
      "text/plain": [
       "'Средняя правильность перекрестной проверки: 0.71'"
      ]
     },
     "execution_count": 26,
     "metadata": {},
     "output_type": "execute_result"
    }
   ],
   "source": [
    "\"Средняя правильность перекрестной проверки: {:.2f}\".format(scores.mean())"
   ]
  },
  {
   "cell_type": "code",
   "execution_count": 27,
   "metadata": {},
   "outputs": [
    {
     "data": {
      "text/plain": [
       "'Средняя правильность перекрестной проверки: 0.70'"
      ]
     },
     "execution_count": 27,
     "metadata": {},
     "output_type": "execute_result"
    }
   ],
   "source": [
    "# создадим объект для стратифицированной КВ с 5 фолдами\n",
    "cvgen = sklearn.model_selection.StratifiedKFold(5)\n",
    "\n",
    "# натравим кросс-валидацию\n",
    "scores = sklearn.model_selection.cross_val_score(\n",
    "    clf, (np.array(X).reshape(-1,X.shape[1])), (np.array(y).reshape(-1,1)), cv = cvgen\n",
    ")\n",
    "\"Средняя правильность перекрестной проверки: {:.2f}\".format(scores.mean())\n",
    "# Значение accuracy стало меньше"
   ]
  },
  {
   "cell_type": "markdown",
   "metadata": {},
   "source": [
    "### 1.3. Поиграться с гиперпараметром, связанным со сложностью модели (в случае kNN — k_neighbours) и построить график accuracy для train set и test_set для разных значений гиперпараметра "
   ]
  },
  {
   "cell_type": "code",
   "execution_count": 28,
   "metadata": {},
   "outputs": [],
   "source": [
    "import matplotlib.pyplot as plt\n",
    "\n",
    "# Построим график \"Правильности\" для разного числа соседей\n",
    "X_train, X_test, y_train, y_test = sklearn.model_selection.train_test_split(\n",
    "    X, y, stratify = y\n",
    ")\n",
    "training_accuracy = []\n",
    "test_accuracy = []\n",
    "# пробуем n_neighbors от 1 до 150 с шагом 2\n",
    "neighbors_settings = range(1,  151, 2)\n",
    "for n_neighbors in neighbors_settings:\n",
    "  # строим модель\n",
    "  clf = sklearn.neighbors.KNeighborsClassifier( n_neighbors = n_neighbors )\n",
    "  clf.fit(np.array(X_train).reshape(-1, X.shape[1]), np.array(y_train).reshape(-1,1) )\n",
    "  # записываем правильность на обучающем наборе\n",
    "  training_accuracy.append( clf.score(np.array(X_train).reshape(-1, X.shape[1]), np.array(y_train).reshape(-1,1) ) )\n",
    "  # записываем правильность на тестовом наборе\n",
    "  test_accuracy.append( clf.score(np.array(X_test).reshape(-1, X.shape[1]), np.array(y_test).reshape(-1,1) ) )\n"
   ]
  },
  {
   "cell_type": "code",
   "execution_count": 29,
   "metadata": {},
   "outputs": [
    {
     "data": {
      "image/png": "[encoded data removed]",
      "text/plain": [
       "<Figure size 432x288 with 1 Axes>"
      ]
     },
     "metadata": {
      "needs_background": "light"
     },
     "output_type": "display_data"
    }
   ],
   "source": [
    "\n",
    "plt.plot( neighbors_settings, training_accuracy, label=\"правильность на обучающем наборе\" )\n",
    "plt.plot( neighbors_settings, test_accuracy, label=\"правильность на тестовом наборе\" )\n",
    "plt.ylabel(\"Правильность\")\n",
    "plt.xlabel(\"количество соседей\")\n",
    "g = plt.legend()\n",
    "#наилучшая точность при 17 соседях, после 87 правильность не изменяется"
   ]
  },
  {
   "cell_type": "markdown",
   "metadata": {},
   "source": [
    "### 1.4. Построить confusion matrix "
   ]
  },
  {
   "cell_type": "code",
   "execution_count": 30,
   "metadata": {},
   "outputs": [
    {
     "data": {
      "text/plain": [
       "<matplotlib.axes._subplots.AxesSubplot at 0xdb01c88>"
      ]
     },
     "execution_count": 30,
     "metadata": {},
     "output_type": "execute_result"
    },
    {
     "data": {
      "image/png": "[encoded data removed]",
      "text/plain": [
       "<Figure size 432x288 with 2 Axes>"
      ]
     },
     "metadata": {
      "needs_background": "light"
     },
     "output_type": "display_data"
    }
   ],
   "source": [
    "import seaborn as sns\n",
    "columns = ['1', '2', '3', '4', '5']\n",
    "confusion_scores = sklearn.metrics.confusion_matrix(y_test, y_pred)\n",
    "confusion_df = pd.DataFrame(confusion_scores, columns = columns, index = columns)\n",
    "sns.heatmap(confusion_df, annot = True)"
   ]
  },
  {
   "cell_type": "markdown",
   "metadata": {},
   "source": [
    "### 2. Бинарная классификация. На любом (но уже другом, бинарном) датасете продемонстрировать бинарную классификацию (можно использовать любой алгоритм), посчитать метрики: accuracy, precision, recall, f-measure, а также составить classification_report"
   ]
  },
  {
   "cell_type": "code",
   "execution_count": 31,
   "metadata": {},
   "outputs": [
    {
     "data": {
      "text/html": [
       "<div>\n",
       "<style scoped>\n",
       "    .dataframe tbody tr th:only-of-type {\n",
       "        vertical-align: middle;\n",
       "    }\n",
       "\n",
       "    .dataframe tbody tr th {\n",
       "        vertical-align: top;\n",
       "    }\n",
       "\n",
       "    .dataframe thead th {\n",
       "        text-align: right;\n",
       "    }\n",
       "</style>\n",
       "<table border=\"1\" class=\"dataframe\">\n",
       "  <thead>\n",
       "    <tr style=\"text-align: right;\">\n",
       "      <th></th>\n",
       "      <th>school</th>\n",
       "      <th>sex</th>\n",
       "      <th>age</th>\n",
       "      <th>address</th>\n",
       "      <th>famsize</th>\n",
       "      <th>Pstatus</th>\n",
       "      <th>Medu</th>\n",
       "      <th>Fedu</th>\n",
       "      <th>Mjob</th>\n",
       "      <th>Fjob</th>\n",
       "      <th>...</th>\n",
       "      <th>famrel</th>\n",
       "      <th>freetime</th>\n",
       "      <th>goout</th>\n",
       "      <th>Dalc</th>\n",
       "      <th>Walc</th>\n",
       "      <th>health</th>\n",
       "      <th>absences</th>\n",
       "      <th>G1</th>\n",
       "      <th>G2</th>\n",
       "      <th>G3</th>\n",
       "    </tr>\n",
       "  </thead>\n",
       "  <tbody>\n",
       "    <tr>\n",
       "      <td>0</td>\n",
       "      <td>GP</td>\n",
       "      <td>F</td>\n",
       "      <td>18</td>\n",
       "      <td>U</td>\n",
       "      <td>GT3</td>\n",
       "      <td>A</td>\n",
       "      <td>4</td>\n",
       "      <td>4</td>\n",
       "      <td>at_home</td>\n",
       "      <td>teacher</td>\n",
       "      <td>...</td>\n",
       "      <td>4</td>\n",
       "      <td>3</td>\n",
       "      <td>4</td>\n",
       "      <td>1</td>\n",
       "      <td>1</td>\n",
       "      <td>3</td>\n",
       "      <td>6</td>\n",
       "      <td>5</td>\n",
       "      <td>6</td>\n",
       "      <td>6</td>\n",
       "    </tr>\n",
       "    <tr>\n",
       "      <td>1</td>\n",
       "      <td>GP</td>\n",
       "      <td>F</td>\n",
       "      <td>17</td>\n",
       "      <td>U</td>\n",
       "      <td>GT3</td>\n",
       "      <td>T</td>\n",
       "      <td>1</td>\n",
       "      <td>1</td>\n",
       "      <td>at_home</td>\n",
       "      <td>other</td>\n",
       "      <td>...</td>\n",
       "      <td>5</td>\n",
       "      <td>3</td>\n",
       "      <td>3</td>\n",
       "      <td>1</td>\n",
       "      <td>1</td>\n",
       "      <td>3</td>\n",
       "      <td>4</td>\n",
       "      <td>5</td>\n",
       "      <td>5</td>\n",
       "      <td>6</td>\n",
       "    </tr>\n",
       "    <tr>\n",
       "      <td>2</td>\n",
       "      <td>GP</td>\n",
       "      <td>F</td>\n",
       "      <td>15</td>\n",
       "      <td>U</td>\n",
       "      <td>LE3</td>\n",
       "      <td>T</td>\n",
       "      <td>1</td>\n",
       "      <td>1</td>\n",
       "      <td>at_home</td>\n",
       "      <td>other</td>\n",
       "      <td>...</td>\n",
       "      <td>4</td>\n",
       "      <td>3</td>\n",
       "      <td>2</td>\n",
       "      <td>2</td>\n",
       "      <td>3</td>\n",
       "      <td>3</td>\n",
       "      <td>10</td>\n",
       "      <td>7</td>\n",
       "      <td>8</td>\n",
       "      <td>10</td>\n",
       "    </tr>\n",
       "    <tr>\n",
       "      <td>3</td>\n",
       "      <td>GP</td>\n",
       "      <td>F</td>\n",
       "      <td>15</td>\n",
       "      <td>U</td>\n",
       "      <td>GT3</td>\n",
       "      <td>T</td>\n",
       "      <td>4</td>\n",
       "      <td>2</td>\n",
       "      <td>health</td>\n",
       "      <td>services</td>\n",
       "      <td>...</td>\n",
       "      <td>3</td>\n",
       "      <td>2</td>\n",
       "      <td>2</td>\n",
       "      <td>1</td>\n",
       "      <td>1</td>\n",
       "      <td>5</td>\n",
       "      <td>2</td>\n",
       "      <td>15</td>\n",
       "      <td>14</td>\n",
       "      <td>15</td>\n",
       "    </tr>\n",
       "    <tr>\n",
       "      <td>4</td>\n",
       "      <td>GP</td>\n",
       "      <td>F</td>\n",
       "      <td>16</td>\n",
       "      <td>U</td>\n",
       "      <td>GT3</td>\n",
       "      <td>T</td>\n",
       "      <td>3</td>\n",
       "      <td>3</td>\n",
       "      <td>other</td>\n",
       "      <td>other</td>\n",
       "      <td>...</td>\n",
       "      <td>4</td>\n",
       "      <td>3</td>\n",
       "      <td>2</td>\n",
       "      <td>1</td>\n",
       "      <td>2</td>\n",
       "      <td>5</td>\n",
       "      <td>4</td>\n",
       "      <td>6</td>\n",
       "      <td>10</td>\n",
       "      <td>10</td>\n",
       "    </tr>\n",
       "  </tbody>\n",
       "</table>\n",
       "<p>5 rows × 33 columns</p>\n",
       "</div>"
      ],
      "text/plain": [
       "  school sex  age address famsize Pstatus  Medu  Fedu     Mjob      Fjob  ...  \\\n",
       "0     GP   F   18       U     GT3       A     4     4  at_home   teacher  ...   \n",
       "1     GP   F   17       U     GT3       T     1     1  at_home     other  ...   \n",
       "2     GP   F   15       U     LE3       T     1     1  at_home     other  ...   \n",
       "3     GP   F   15       U     GT3       T     4     2   health  services  ...   \n",
       "4     GP   F   16       U     GT3       T     3     3    other     other  ...   \n",
       "\n",
       "  famrel freetime  goout  Dalc  Walc health absences  G1  G2  G3  \n",
       "0      4        3      4     1     1      3        6   5   6   6  \n",
       "1      5        3      3     1     1      3        4   5   5   6  \n",
       "2      4        3      2     2     3      3       10   7   8  10  \n",
       "3      3        2      2     1     1      5        2  15  14  15  \n",
       "4      4        3      2     1     2      5        4   6  10  10  \n",
       "\n",
       "[5 rows x 33 columns]"
      ]
     },
     "execution_count": 31,
     "metadata": {},
     "output_type": "execute_result"
    }
   ],
   "source": [
    "#выводим первые 5 строк\n",
    "df2 = pd.read_csv('student-mat.csv')\n",
    "df2.head()"
   ]
  },
  {
   "cell_type": "code",
   "execution_count": 32,
   "metadata": {},
   "outputs": [],
   "source": [
    "# преобразоваем значения столбца higher в числовые\n",
    "df2.higher = pd.factorize(df2.higher)[0]\n",
    "#выбираем x и у\n",
    "# будем определять хочет ли ученик поступать в высшую школу в зависимости от absences и studytime\n",
    "X = df2[['absences','studytime']]\n",
    "y = df2['higher']"
   ]
  },
  {
   "cell_type": "code",
   "execution_count": 33,
   "metadata": {},
   "outputs": [],
   "source": [
    "# делим данные на тестовые и обучающие \n",
    "X_train, X_test, y_train, y_test = sklearn.model_selection.train_test_split(\n",
    "   X , y, random_state = 99\n",
    ")"
   ]
  },
  {
   "cell_type": "code",
   "execution_count": 34,
   "metadata": {},
   "outputs": [
    {
     "data": {
      "text/plain": [
       "KNeighborsClassifier(algorithm='auto', leaf_size=30, metric='minkowski',\n",
       "                     metric_params=None, n_jobs=None, n_neighbors=1, p=2,\n",
       "                     weights='uniform')"
      ]
     },
     "execution_count": 34,
     "metadata": {},
     "output_type": "execute_result"
    }
   ],
   "source": [
    "# создаем модель knn с 1 соседом\n",
    "from sklearn.neighbors import KNeighborsClassifier\n",
    "knn = KNeighborsClassifier( n_neighbors =1)\n",
    "knn"
   ]
  },
  {
   "cell_type": "code",
   "execution_count": 35,
   "metadata": {},
   "outputs": [
    {
     "data": {
      "text/plain": [
       "KNeighborsClassifier(algorithm='auto', leaf_size=30, metric='minkowski',\n",
       "                     metric_params=None, n_jobs=None, n_neighbors=1, p=2,\n",
       "                     weights='uniform')"
      ]
     },
     "execution_count": 35,
     "metadata": {},
     "output_type": "execute_result"
    }
   ],
   "source": [
    "# строим модель на обучающем наборе\n",
    "knn.fit( np.array(X_train).reshape(-1,X.shape[1]), np.array(y_train).reshape(-1,1) )"
   ]
  },
  {
   "cell_type": "code",
   "execution_count": 36,
   "metadata": {},
   "outputs": [],
   "source": [
    "#получаем результат на тестовой выборке\n",
    "y_pred = (knn.predict(np.array(X_test).reshape(-1,X.shape[1])))"
   ]
  },
  {
   "cell_type": "code",
   "execution_count": 37,
   "metadata": {},
   "outputs": [
    {
     "data": {
      "text/plain": [
       "0.898989898989899"
      ]
     },
     "execution_count": 37,
     "metadata": {},
     "output_type": "execute_result"
    }
   ],
   "source": [
    "#выводим accuracy\n",
    "sklearn.metrics.accuracy_score( y_pred, y_test )"
   ]
  },
  {
   "cell_type": "code",
   "execution_count": 38,
   "metadata": {},
   "outputs": [],
   "source": [
    "# получаем значения accuracy, precision, recall, f measure\n",
    "accuracy = sklearn.metrics.accuracy_score(y_test, y_pred)\n",
    "precision = sklearn.metrics.precision_score(y_test, y_pred)\n",
    "recall = sklearn.metrics.recall_score(y_test, y_pred)\n",
    "f1 = sklearn.metrics.f1_score(y_test, y_pred)"
   ]
  },
  {
   "cell_type": "code",
   "execution_count": 39,
   "metadata": {},
   "outputs": [
    {
     "name": "stdout",
     "output_type": "stream",
     "text": [
      "0.898989898989899 0.16666666666666666 0.16666666666666666 0.16666666666666666\n"
     ]
    }
   ],
   "source": [
    "# выводим значения accuracy, precision, recall, f measure\n",
    "print(accuracy, precision, recall, f1)"
   ]
  },
  {
   "cell_type": "code",
   "execution_count": 40,
   "metadata": {},
   "outputs": [
    {
     "data": {
      "text/plain": [
       "array([0, 0, 0, 0, 0, 0, 1, 0, 0, 0, 0, 0, 0, 0, 0, 0, 0, 0, 0, 0, 0, 0,\n",
       "       0, 0, 0, 0, 0, 0, 0, 0, 0, 0, 1, 0, 0, 0, 0, 0, 0, 0, 0, 0, 0, 0,\n",
       "       0, 0, 0, 0, 0, 0, 0, 0, 0, 0, 0, 0, 0, 0, 0, 0, 0, 0, 0, 0, 0, 0,\n",
       "       0, 1, 0, 1, 0, 0, 0, 1, 0, 0, 0, 0, 0, 0, 0, 0, 0, 0, 0, 0, 0, 0,\n",
       "       0, 0, 1, 0, 0, 0, 0, 0, 0, 0, 0], dtype=int64)"
      ]
     },
     "execution_count": 40,
     "metadata": {},
     "output_type": "execute_result"
    }
   ],
   "source": [
    "#результат предсказания\n",
    "y_pred"
   ]
  },
  {
   "cell_type": "code",
   "execution_count": 41,
   "metadata": {},
   "outputs": [
    {
     "name": "stdout",
     "output_type": "stream",
     "text": [
      "              precision    recall  f1-score   support\n",
      "\n",
      "         yes       0.95      0.95      0.95        93\n",
      "          no       0.17      0.17      0.17         6\n",
      "\n",
      "    accuracy                           0.90        99\n",
      "   macro avg       0.56      0.56      0.56        99\n",
      "weighted avg       0.90      0.90      0.90        99\n",
      "\n"
     ]
    }
   ],
   "source": [
    "# выводим classification_report\n",
    "print( sklearn.metrics.classification_report(\n",
    "    y_test, y_pred, target_names=[\"yes\", \"no\"]\n",
    ") )"
   ]
  },
  {
   "cell_type": "markdown",
   "metadata": {},
   "source": [
    "Попробовать также вариант с предварительной нормализацией признаков. Оценить метрики качества в случае с нормализованными признаками и ненормализованными."
   ]
  },
  {
   "cell_type": "code",
   "execution_count": 42,
   "metadata": {},
   "outputs": [
    {
     "data": {
      "text/plain": [
       "0       6\n",
       "1       4\n",
       "2      10\n",
       "3       2\n",
       "4       4\n",
       "       ..\n",
       "390    11\n",
       "391     3\n",
       "392     3\n",
       "393     0\n",
       "394     5\n",
       "Name: absences, Length: 395, dtype: int64"
      ]
     },
     "execution_count": 42,
     "metadata": {},
     "output_type": "execute_result"
    }
   ],
   "source": [
    "# значения до нормализации\n",
    "df2.absences"
   ]
  },
  {
   "cell_type": "code",
   "execution_count": 43,
   "metadata": {},
   "outputs": [],
   "source": [
    "# нормализуем значения absences\n",
    "norm=df2.absences\n",
    "scaler.fit(np.array(norm).reshape(-1,1))\n",
    "norm2 = (scaler.transform(np.array(norm).reshape(-1,1)))"
   ]
  },
  {
   "cell_type": "code",
   "execution_count": 44,
   "metadata": {},
   "outputs": [],
   "source": [
    "# нормализуем значения studytime\n",
    "norm=df2.studytime\n",
    "scaler.fit(np.array(norm).reshape(-1,1))\n",
    "norm3 = (scaler.transform(np.array(norm).reshape(-1,1)))"
   ]
  },
  {
   "cell_type": "code",
   "execution_count": 45,
   "metadata": {},
   "outputs": [
    {
     "data": {
      "text/plain": [
       "0      0.036424\n",
       "1     -0.213796\n",
       "2      0.536865\n",
       "3     -0.464016\n",
       "4     -0.213796\n",
       "         ...   \n",
       "390    0.661975\n",
       "391   -0.338906\n",
       "392   -0.338906\n",
       "393   -0.714236\n",
       "394   -0.088686\n",
       "Name: absences, Length: 395, dtype: float64"
      ]
     },
     "execution_count": 45,
     "metadata": {},
     "output_type": "execute_result"
    }
   ],
   "source": [
    "# нормализованные значения absences\n",
    "df2.absences = norm2\n",
    "df2.studytime = norm3\n",
    "df2.absences"
   ]
  },
  {
   "cell_type": "code",
   "execution_count": 46,
   "metadata": {},
   "outputs": [],
   "source": [
    "#еще раз выбираем х и у\n",
    "X = df2[['absences','studytime']]\n",
    "y = df2['higher']"
   ]
  },
  {
   "cell_type": "code",
   "execution_count": 47,
   "metadata": {},
   "outputs": [],
   "source": [
    "# делим данные на тестовые и обучающие \n",
    "X_train, X_test, y_train, y_test = sklearn.model_selection.train_test_split(\n",
    "   X , y, random_state = 99\n",
    ")"
   ]
  },
  {
   "cell_type": "code",
   "execution_count": 48,
   "metadata": {},
   "outputs": [
    {
     "data": {
      "text/plain": [
       "KNeighborsClassifier(algorithm='auto', leaf_size=30, metric='minkowski',\n",
       "                     metric_params=None, n_jobs=None, n_neighbors=1, p=2,\n",
       "                     weights='uniform')"
      ]
     },
     "execution_count": 48,
     "metadata": {},
     "output_type": "execute_result"
    }
   ],
   "source": [
    "# создаем модель knn с 1 соседом\n",
    "from sklearn.neighbors import KNeighborsClassifier\n",
    "knn = KNeighborsClassifier( n_neighbors = 1 )\n",
    "knn"
   ]
  },
  {
   "cell_type": "code",
   "execution_count": 49,
   "metadata": {},
   "outputs": [
    {
     "data": {
      "text/plain": [
       "KNeighborsClassifier(algorithm='auto', leaf_size=30, metric='minkowski',\n",
       "                     metric_params=None, n_jobs=None, n_neighbors=1, p=2,\n",
       "                     weights='uniform')"
      ]
     },
     "execution_count": 49,
     "metadata": {},
     "output_type": "execute_result"
    }
   ],
   "source": [
    "# строим модель на обучающем наборе\n",
    "knn.fit( np.array(X_train).reshape(-1,X.shape[1]), np.array(y_train).reshape(-1,1) )"
   ]
  },
  {
   "cell_type": "code",
   "execution_count": 50,
   "metadata": {},
   "outputs": [],
   "source": [
    "#получаем результат на тестовой выборке\n",
    "y_pred = (knn.predict(np.array(X_test).reshape(-1,X.shape[1])))"
   ]
  },
  {
   "cell_type": "code",
   "execution_count": 51,
   "metadata": {},
   "outputs": [
    {
     "data": {
      "text/plain": [
       "0.8282828282828283"
      ]
     },
     "execution_count": 51,
     "metadata": {},
     "output_type": "execute_result"
    }
   ],
   "source": [
    "#выводим accuracy\n",
    "# точность после нормализации не изменилась\n",
    "sklearn.metrics.accuracy_score( y_pred, y_test )"
   ]
  },
  {
   "cell_type": "code",
   "execution_count": 52,
   "metadata": {},
   "outputs": [
    {
     "name": "stdout",
     "output_type": "stream",
     "text": [
      "0.8282828282828283 0.0 0.0 0.0\n"
     ]
    }
   ],
   "source": [
    "# получаем значения accuracy, precision, recall, f measure\n",
    "accuracy = sklearn.metrics.accuracy_score(y_test, y_pred)\n",
    "precision = sklearn.metrics.precision_score(y_test, y_pred)\n",
    "recall = sklearn.metrics.recall_score(y_test, y_pred)\n",
    "f1 = sklearn.metrics.f1_score(y_test, y_pred)\n",
    "# выводим значения accuracy, precision, recall, f measure\n",
    "print(accuracy, precision, recall, f1)\n",
    "# значения метрик стали меньше"
   ]
  },
  {
   "cell_type": "code",
   "execution_count": 53,
   "metadata": {},
   "outputs": [
    {
     "name": "stdout",
     "output_type": "stream",
     "text": [
      "              precision    recall  f1-score   support\n",
      "\n",
      "         yes       0.93      0.88      0.91        93\n",
      "          no       0.00      0.00      0.00         6\n",
      "\n",
      "    accuracy                           0.83        99\n",
      "   macro avg       0.47      0.44      0.45        99\n",
      "weighted avg       0.88      0.83      0.85        99\n",
      "\n"
     ]
    }
   ],
   "source": [
    "# выводим classification_report\n",
    "# не изменился после нормализации\n",
    "print( sklearn.metrics.classification_report(\n",
    "    y_test, y_pred, target_names=[\"yes\", \"no\"]\n",
    ") )"
   ]
  },
  {
   "cell_type": "code",
   "execution_count": null,
   "metadata": {},
   "outputs": [],
   "source": []
  },
  {
   "cell_type": "code",
   "execution_count": null,
   "metadata": {},
   "outputs": [],
   "source": []
  },
  {
   "cell_type": "code",
   "execution_count": null,
   "metadata": {},
   "outputs": [],
   "source": []
  }
 ],
 "metadata": {
  "kernelspec": {
   "display_name": "Python 3",
   "language": "python",
   "name": "python3"
  },
  "language_info": {
   "codemirror_mode": {
    "name": "ipython",
    "version": 3
   },
   "file_extension": ".py",
   "mimetype": "text/x-python",
   "name": "python",
   "nbconvert_exporter": "python",
   "pygments_lexer": "ipython3",
   "version": "3.7.4"
  }
 },
 "nbformat": 4,
 "nbformat_minor": 2
}
