{
 "cells": [
  {
   "cell_type": "markdown",
   "metadata": {},
   "source": [
    "# Лабораторная работа №8: Классификация текстов "
   ]
  },
  {
   "cell_type": "markdown",
   "metadata": {},
   "source": [
    "### Каткова Полина\n"
   ]
  },
  {
   "cell_type": "markdown",
   "metadata": {},
   "source": [
    "1. Найти и загрузить любой датасет для классификации текстов"
   ]
  },
  {
   "cell_type": "markdown",
   "metadata": {},
   "source": [
    "Ссылка: https://www.kaggle.com/clmentbisaillon/fake-and-real-news-dataset\n",
    "\n",
    "Там содержатся 2 фала - с настоящимии и ложными новостями. Будем использовать файл в правдивыми новостями.\n",
    "\n",
    "Столбцы:\n",
    "\n",
    "title - заголовок новостей\n",
    "\n",
    "text - содержание новостей\n",
    "\n",
    "subject - тема, бинарный признак (politicsNews, worldnews)\n",
    "\n",
    "date - дата\n"
   ]
  },
  {
   "cell_type": "code",
   "execution_count": 1,
   "metadata": {},
   "outputs": [],
   "source": [
    "import pandas as pd\n",
    "import numpy as np\n",
    "import sklearn"
   ]
  },
  {
   "cell_type": "code",
   "execution_count": 31,
   "metadata": {},
   "outputs": [
    {
     "name": "stdout",
     "output_type": "stream",
     "text": [
      "(21417, 4)\n"
     ]
    },
    {
     "data": {
      "text/html": [
       "<div>\n",
       "<style scoped>\n",
       "    .dataframe tbody tr th:only-of-type {\n",
       "        vertical-align: middle;\n",
       "    }\n",
       "\n",
       "    .dataframe tbody tr th {\n",
       "        vertical-align: top;\n",
       "    }\n",
       "\n",
       "    .dataframe thead th {\n",
       "        text-align: right;\n",
       "    }\n",
       "</style>\n",
       "<table border=\"1\" class=\"dataframe\">\n",
       "  <thead>\n",
       "    <tr style=\"text-align: right;\">\n",
       "      <th></th>\n",
       "      <th>title</th>\n",
       "      <th>text</th>\n",
       "      <th>subject</th>\n",
       "      <th>date</th>\n",
       "    </tr>\n",
       "  </thead>\n",
       "  <tbody>\n",
       "    <tr>\n",
       "      <td>0</td>\n",
       "      <td>As U.S. budget fight looms, Republicans flip t...</td>\n",
       "      <td>WASHINGTON (Reuters) - The head of a conservat...</td>\n",
       "      <td>politicsNews</td>\n",
       "      <td>December 31, 2017</td>\n",
       "    </tr>\n",
       "    <tr>\n",
       "      <td>1</td>\n",
       "      <td>U.S. military to accept transgender recruits o...</td>\n",
       "      <td>WASHINGTON (Reuters) - Transgender people will...</td>\n",
       "      <td>politicsNews</td>\n",
       "      <td>December 29, 2017</td>\n",
       "    </tr>\n",
       "  </tbody>\n",
       "</table>\n",
       "</div>"
      ],
      "text/plain": [
       "                                               title  \\\n",
       "0  As U.S. budget fight looms, Republicans flip t...   \n",
       "1  U.S. military to accept transgender recruits o...   \n",
       "\n",
       "                                                text       subject  \\\n",
       "0  WASHINGTON (Reuters) - The head of a conservat...  politicsNews   \n",
       "1  WASHINGTON (Reuters) - Transgender people will...  politicsNews   \n",
       "\n",
       "                 date  \n",
       "0  December 31, 2017   \n",
       "1  December 29, 2017   "
      ]
     },
     "execution_count": 31,
     "metadata": {},
     "output_type": "execute_result"
    }
   ],
   "source": [
    "df = pd.read_csv(\"True.csv\")\n",
    "print( df.shape )\n",
    "df.head( 2 )"
   ]
  },
  {
   "cell_type": "code",
   "execution_count": 32,
   "metadata": {},
   "outputs": [
    {
     "data": {
      "text/html": [
       "<div>\n",
       "<style scoped>\n",
       "    .dataframe tbody tr th:only-of-type {\n",
       "        vertical-align: middle;\n",
       "    }\n",
       "\n",
       "    .dataframe tbody tr th {\n",
       "        vertical-align: top;\n",
       "    }\n",
       "\n",
       "    .dataframe thead th {\n",
       "        text-align: right;\n",
       "    }\n",
       "</style>\n",
       "<table border=\"1\" class=\"dataframe\">\n",
       "  <thead>\n",
       "    <tr style=\"text-align: right;\">\n",
       "      <th></th>\n",
       "      <th>title</th>\n",
       "      <th>text</th>\n",
       "      <th>subject</th>\n",
       "      <th>date</th>\n",
       "    </tr>\n",
       "  </thead>\n",
       "  <tbody>\n",
       "    <tr>\n",
       "      <td>5000</td>\n",
       "      <td>Trump budget opens new fight among Republicans</td>\n",
       "      <td>WASHINGTON (Reuters) - Republican U.S. Represe...</td>\n",
       "      <td>politicsNews</td>\n",
       "      <td>March 13, 2017</td>\n",
       "    </tr>\n",
       "    <tr>\n",
       "      <td>5001</td>\n",
       "      <td>Trump tried to call New York prosecutor Bharar...</td>\n",
       "      <td>WASHINGTON (Reuters) - Two days before U.S. At...</td>\n",
       "      <td>politicsNews</td>\n",
       "      <td>March 12, 2017</td>\n",
       "    </tr>\n",
       "    <tr>\n",
       "      <td>5002</td>\n",
       "      <td>NY prosecutor’s office likely to plot similar ...</td>\n",
       "      <td>NEW YORK/WASHINGTON (Reuters) - The Trump admi...</td>\n",
       "      <td>politicsNews</td>\n",
       "      <td>March 13, 2017</td>\n",
       "    </tr>\n",
       "    <tr>\n",
       "      <td>5003</td>\n",
       "      <td>Puerto Rico creditors urge extension of fiscal...</td>\n",
       "      <td>(Reuters) - A group holding more than $10 bill...</td>\n",
       "      <td>politicsNews</td>\n",
       "      <td>March 13, 2017</td>\n",
       "    </tr>\n",
       "    <tr>\n",
       "      <td>5004</td>\n",
       "      <td>Biden says would have liked to be the U.S. pre...</td>\n",
       "      <td>AUSTIN, Texas (Reuters) - Former Democratic U....</td>\n",
       "      <td>politicsNews</td>\n",
       "      <td>March 12, 2017</td>\n",
       "    </tr>\n",
       "    <tr>\n",
       "      <td>...</td>\n",
       "      <td>...</td>\n",
       "      <td>...</td>\n",
       "      <td>...</td>\n",
       "      <td>...</td>\n",
       "    </tr>\n",
       "    <tr>\n",
       "      <td>14996</td>\n",
       "      <td>Exclusive: Japan to delay multi-billion dollar...</td>\n",
       "      <td>TOKYO (Reuters) - Japan will delay a decision ...</td>\n",
       "      <td>worldnews</td>\n",
       "      <td>November 13, 2017</td>\n",
       "    </tr>\n",
       "    <tr>\n",
       "      <td>14997</td>\n",
       "      <td>Strong quake hits Costa Rica, no reports of ma...</td>\n",
       "      <td>SAN JOSE (Reuters) - A strong 6.5 magnitude qu...</td>\n",
       "      <td>worldnews</td>\n",
       "      <td>November 13, 2017</td>\n",
       "    </tr>\n",
       "    <tr>\n",
       "      <td>14998</td>\n",
       "      <td>United resumes Newark-Delhi flights after halt...</td>\n",
       "      <td>NEW YORK/SINGAPORE (Reuters) - United Airlines...</td>\n",
       "      <td>worldnews</td>\n",
       "      <td>November 12, 2017</td>\n",
       "    </tr>\n",
       "    <tr>\n",
       "      <td>14999</td>\n",
       "      <td>Freeport Indonesia mine access road reopened a...</td>\n",
       "      <td>JAKARTA (Reuters) - The Indonesian unit of Fre...</td>\n",
       "      <td>worldnews</td>\n",
       "      <td>November 13, 2017</td>\n",
       "    </tr>\n",
       "    <tr>\n",
       "      <td>15000</td>\n",
       "      <td>Telefonica suspends customer service operation...</td>\n",
       "      <td>GUATEMALA CITY (Reuters) - The Guatemalan unit...</td>\n",
       "      <td>worldnews</td>\n",
       "      <td>November 13, 2017</td>\n",
       "    </tr>\n",
       "  </tbody>\n",
       "</table>\n",
       "<p>10001 rows × 4 columns</p>\n",
       "</div>"
      ],
      "text/plain": [
       "                                                   title  \\\n",
       "5000      Trump budget opens new fight among Republicans   \n",
       "5001   Trump tried to call New York prosecutor Bharar...   \n",
       "5002   NY prosecutor’s office likely to plot similar ...   \n",
       "5003   Puerto Rico creditors urge extension of fiscal...   \n",
       "5004   Biden says would have liked to be the U.S. pre...   \n",
       "...                                                  ...   \n",
       "14996  Exclusive: Japan to delay multi-billion dollar...   \n",
       "14997  Strong quake hits Costa Rica, no reports of ma...   \n",
       "14998  United resumes Newark-Delhi flights after halt...   \n",
       "14999  Freeport Indonesia mine access road reopened a...   \n",
       "15000  Telefonica suspends customer service operation...   \n",
       "\n",
       "                                                    text       subject  \\\n",
       "5000   WASHINGTON (Reuters) - Republican U.S. Represe...  politicsNews   \n",
       "5001   WASHINGTON (Reuters) - Two days before U.S. At...  politicsNews   \n",
       "5002   NEW YORK/WASHINGTON (Reuters) - The Trump admi...  politicsNews   \n",
       "5003   (Reuters) - A group holding more than $10 bill...  politicsNews   \n",
       "5004   AUSTIN, Texas (Reuters) - Former Democratic U....  politicsNews   \n",
       "...                                                  ...           ...   \n",
       "14996  TOKYO (Reuters) - Japan will delay a decision ...     worldnews   \n",
       "14997  SAN JOSE (Reuters) - A strong 6.5 magnitude qu...     worldnews   \n",
       "14998  NEW YORK/SINGAPORE (Reuters) - United Airlines...     worldnews   \n",
       "14999  JAKARTA (Reuters) - The Indonesian unit of Fre...     worldnews   \n",
       "15000  GUATEMALA CITY (Reuters) - The Guatemalan unit...     worldnews   \n",
       "\n",
       "                     date  \n",
       "5000      March 13, 2017   \n",
       "5001      March 12, 2017   \n",
       "5002      March 13, 2017   \n",
       "5003      March 13, 2017   \n",
       "5004      March 12, 2017   \n",
       "...                   ...  \n",
       "14996  November 13, 2017   \n",
       "14997  November 13, 2017   \n",
       "14998  November 12, 2017   \n",
       "14999  November 13, 2017   \n",
       "15000  November 13, 2017   \n",
       "\n",
       "[10001 rows x 4 columns]"
      ]
     },
     "execution_count": 32,
     "metadata": {},
     "output_type": "execute_result"
    }
   ],
   "source": [
    "#выбираем 10к записей\n",
    "df = df.loc[5000:15000]\n",
    "df"
   ]
  },
  {
   "cell_type": "markdown",
   "metadata": {},
   "source": [
    "2. Выводите в цикле целиком текст первых нескольких записей"
   ]
  },
  {
   "cell_type": "code",
   "execution_count": 33,
   "metadata": {},
   "outputs": [
    {
     "name": "stdout",
     "output_type": "stream",
     "text": [
      "WASHINGTON (Reuters) - Republican U.S. Representative Todd Rokita keeps a clock hanging on the wall of his Capitol Hill office that tracks the U.S. government’s rising debt in real time and reminds him of his top priority: reining in federal spending. “I was sent here on a fiscal note,” said the Indiana lawmaker and vice chairman of the House of Representatives Budget Committee, who rode a Republican wave during his first election to Congress in 2010. When President Donald Trump unveils his budget for the 2018 fiscal year on Thursday, Rokita will be among many conservative Republicans cheering proposed cuts to domestic programs that would pay for a military buildup. More moderate Republicans are less enthusiastic and worry Trump’s budget could force lawmakers to choose between opposing the president or backing reductions in popular programs such as aid for disabled children and hot meals for the elderly. “What you would hope is that the administration is aware of the difficulty of some of these things,” said Representative Tom Cole of Oklahoma. The release of Trump’s budget, which comes as the Republican president is facing an intraparty revolt over proposed legislation to replace the Obamacare healthcare law, could open another fight among Republicans who control both houses of Congress. To keep the government running, lawmakers will need to approve a spending plan later this year. The White House has released few details about Trump’s budget, other than making clear the president wants to boost military spending by $54 billion and is seeking equivalent cuts in non-defense discretionary programs. But several agencies, including the State Department and the Environmental Protection Agency, have been asked to prepare scenarios for steep reductions, according to officials familiar with the discussions. While supporting deficit-reduction efforts, Cole said a major research university in his district could get hit by National Institutes of Health cuts, as could sewage treatment facilities funded by the EPA. Republican Senator Rob Portman, whose home state of Ohio sits on the southern shores of Lake Erie, expressed concern about media reports saying the Trump budget had penciled in sharp cuts in a cleanup program for the Great Lakes. While Rokita, who was among a group of Republican lawmakers who met with Trump last week, appeared comfortable with what he had learned so far about Trump’s budget, some Republican members of the conservative House Freedom Caucus said they wanted to see even further budget cuts. Representative Mo Brooks of Alabama said the outcry from lawmakers over the expected cuts underscored to him that the blueprint would be a “a very large step in the right direction” of reining in the debt. Brooks added: “My fear is that the Trump budget will not be austere enough to minimize America’s risk of suffering the kind of debilitating insolvency and bankruptcy that is destroying the lives of Venezuelans right now.” OPEC member Venezuela is immersed in a deep economic crisis, with inflation in triple digits, shortages of basic goods, and many people going hungry. Brooks and other members of the Freedom Caucus are among the most vocal critics of the legislation backed by the White House to repeal and replace the Affordable Care Act, former Democratic President Barack Obama’s signature healthcare plan, known as Obamacare. To try to woo the conservative lawmakers on Trump’s legislative agenda, budget director Mick Mulvaney, himself a former member of the House Freedom Caucus, has invited them to a bowling and pizza night at the White House on Tuesday night. Another Freedom Caucus member, Representative David Schweikert of Arizona, said Mulvaney was encouraging lawmakers to submit maverick fiscal ideas to the White House. Schweikert said he hoped to revive a proposal from a few years ago, in the midst of a fight over raising the U.S. debt limit, that would have allowed the government to take a series of alternative, albeit controversial steps, such as paying some creditors ahead of others. One senior Republican aide, who referred to Trump’s budget as a “slash and burn” proposal, said one fear of some House lawmakers was that they would be pressured to back big spending cuts only to have them rejected by the Senate, where Republicans hold a slimmer majority. The risk for House members is that their votes could prompt a backlash in the 2018 congressional elections. Senate Majority Leader Mitch McConnell has said a budget that cuts State Department funds by one-third is unlikely to pass in his chamber. Other high-ranking Republicans are setting off alarms. Senator Lindsey Graham, following a White House lunch on Tuesday with Trump, said: “What I told him is that when we get in a deadlock between the House and the Senate, different factions of the party ... you’re the guy who needs to come down and close the deal.” Cole said Congress would ultimately have the final say on the budget. “At the end of the day, we’ll have a budget. We’ll pass the budget,” he said. “Our budget is not necessarily the president’s budget.”  \n",
      "\n",
      "WASHINGTON (Reuters) - Two days before U.S. Attorney Preet Bharara was fired, President Donald Trump tried to call the high-profile New York prosecutor in what a White House official said was an effort to “thank him for his service and to wish him good luck.” But a U.S. law enforcement official said Bharara declined to take the call, placed on Thursday, saying he did not want to talk to the president without the approval of his superiors. Bharara said on Saturday he had been fired after he defied a request to resign. The move was a surprise because Bharara had told reporters in November that Trump had asked him to remain in the job. As the chief federal prosecutor for the Southern District of New York, which includes Manhattan, Bharara oversaw several  notable corruption and white-collar criminal cases, as well as prosecutions of terrorism suspects. He was one of 46 Obama administration holdovers who were asked to resign by the Justice Department on Friday. Although U.S. attorneys are political appointees, and the request from Trump’s Justice Department is part of a routine process, the move came as a surprise. Not every new administration replaces all U.S. attorneys at once. The White House declined to comment further on the resignations. The office in the southern district of New York handles some of the most critical business and criminal cases that pass through the federal judicial system. Bharara had been overseeing a probe into New York City Mayor Bill de Blasio’s fundraising. Bharara said his deputy, Joon Kim, would serve as his temporary replacement. The law enforcement source declined comment on whether the office had any active investigations related to Trump. On Wednesday, three watchdog groups asked Bharara to take steps to prevent the Trump Organization from receiving benefits from foreign governments that might enrich Trump, who has not given up ownership of the business. Norm Eisen, a former White House ethics lawyer who leads one of the groups, Citizens for Responsibility and Ethics in Washington, questioned the timing of the firings. “I do believe that something odd happened,” he said. “You don’t decide to keep 46 folks on, then suddenly demand their immediate exit, without some precipitating cause or causes.” Democrat Elijah Cummings, ranking member of the House Oversight Committee, said on Sunday it was the president’s prerogative to fire U.S. attorneys. But he questioned why Trump had suddenly changed his mind on keeping Bharara. “I’m just curious as to why that is,” Cummings said on ABC’s “This Week” program. “Certainly, there’s a lot of questions coming up as to whether ... President Trump is concerned about the jurisdiction of this U.S. attorney and whether that might affect his future.” Republican Senator John McCain said he did not know what promises Trump might have made to Bharara in terms of keeping him on, but he said the president was within his rights to seek the resignation of political appointees from a prior administration. “I do know that other administrations have done the same thing, perhaps not in as abrupt a fashion,” McCain said on CNN’s “State of the Union.” “Elections have consequences, so for people to complain about it they are ignoring the history of new presidencies and I think the president had every right to ask for their resignations,” McCain said. \n",
      "\n"
     ]
    }
   ],
   "source": [
    "print(df.text[5000] + '\\n')\n",
    "print(df.text[5001] + '\\n')"
   ]
  },
  {
   "cell_type": "markdown",
   "metadata": {},
   "source": [
    "3. Найти и удалить малоинформативные повторяющиеся участки"
   ]
  },
  {
   "cell_type": "code",
   "execution_count": 34,
   "metadata": {},
   "outputs": [],
   "source": [
    "import re \n",
    "for i in range(len(df)):\n",
    "    # удаляем выражения типа \"in 2018\"\n",
    "    df.text[i+5000] = re.sub(r'in \\d{4}', '', df.text[i+5000])\n",
    "    # удаляем выражения типа \"2018\"\n",
    "    df.text[i+5000] = re.sub(r'\\d{4}','', df.text[i+5000])\n",
    "    # удаляем выражения типа \"Dec. 8\"\n",
    "    df.text[i+5000] = re.sub(r'\\w{3}\\. \\d{1}?\\.','', df.text[i+5000])\n",
    "    # удаляем первое слово  \n",
    "    df.text[i+5000] = re.sub(r'^\\w+','', df.text[i+5000])\n",
    "    # удаляем '(Reuters)' \n",
    "    df.text[i+5000] = re.sub(r'(Reuters)','', df.text[i+5000])\n",
    "    # удаляем the\n",
    "    df.text[i+5000] = re.sub(r'the','', df.text[i+5000])\n",
    "    # удаляем on\n",
    "    df.text[i+5000] = re.sub(r'on','', df.text[i+5000])\n",
    "    #удаляем сокращения  типа U.S.\n",
    "    df.text[i+5000] = re.sub(r'\\w\\. ?\\w\\.','', df.text[i+5000])\n",
    "    #удаляем '-'\n",
    "    df.text[i+5000] = re.sub(r'-','', df.text[i+5000])"
   ]
  },
  {
   "cell_type": "markdown",
   "metadata": {},
   "source": [
    "4. (5) Создаём матрицу TfIdf с помощью TfidfVectorizer"
   ]
  },
  {
   "cell_type": "code",
   "execution_count": 35,
   "metadata": {},
   "outputs": [],
   "source": [
    "from stop_words import get_stop_words\n",
    "en_stopwords = get_stop_words('en')\n",
    "\n",
    "#создаем vectorizer\n",
    "import sklearn.feature_extraction.text\n",
    "tfidf_vectorizer = sklearn.feature_extraction.text.TfidfVectorizer(\n",
    "    max_df = 0.8,\n",
    "    max_features = 5000,\n",
    "    min_df = 0.002,\n",
    "    stop_words = en_stopwords,\n",
    "    use_idf = True,\n",
    "    token_pattern = '[a-zA-Zа-яА-Я_]{2,}',\n",
    "    ngram_range = (1,3)\n",
    ")"
   ]
  },
  {
   "cell_type": "code",
   "execution_count": 36,
   "metadata": {},
   "outputs": [
    {
     "name": "stderr",
     "output_type": "stream",
     "text": [
      "C:\\ProgramData\\Anaconda3\\lib\\site-packages\\sklearn\\feature_extraction\\text.py:300: UserWarning: Your stop_words may be inconsistent with your preprocessing. Tokenizing the stop words generated tokens ['aren', 'can', 'couldn', 'didn', 'doesn', 'don', 'hadn', 'hasn', 'haven', 'isn', 'let', 'll', 'mustn', 're', 'shan', 'shouldn', 've', 'wasn', 'weren', 'won', 'wouldn'] not in stop_words.\n",
      "  'stop_words.' % sorted(inconsistent))\n"
     ]
    },
    {
     "name": "stdout",
     "output_type": "stream",
     "text": [
      "Wall time: 18.5 s\n"
     ]
    },
    {
     "data": {
      "text/plain": [
       "(10001, 5000)"
      ]
     },
     "execution_count": 36,
     "metadata": {},
     "output_type": "execute_result"
    }
   ],
   "source": [
    "%time tfidf_matrix = tfidf_vectorizer.fit_transform( df.text )\n",
    "tfidf_matrix.shape"
   ]
  },
  {
   "cell_type": "markdown",
   "metadata": {},
   "source": [
    "5 (6). Применяем sklearn.linear_model.LogisticRegression() к получившейся матрице TfIdf, проводим классификацию  выводим получившиеся метрики качества (accuracy для multiclass или f1 / classification_report для бинарной)."
   ]
  },
  {
   "cell_type": "code",
   "execution_count": 37,
   "metadata": {},
   "outputs": [],
   "source": [
    "from sklearn.model_selection import train_test_split"
   ]
  },
  {
   "cell_type": "code",
   "execution_count": 38,
   "metadata": {},
   "outputs": [],
   "source": [
    "from sklearn.linear_model import LogisticRegression\n",
    "from sklearn.model_selection import GridSearchCV\n",
    "from sklearn import metrics\n",
    "from sklearn.pipeline import Pipeline\n"
   ]
  },
  {
   "cell_type": "code",
   "execution_count": 39,
   "metadata": {},
   "outputs": [],
   "source": [
    "# выбираем х и у\n",
    "X = df.text\n",
    "y = df.subject"
   ]
  },
  {
   "cell_type": "code",
   "execution_count": 42,
   "metadata": {},
   "outputs": [
    {
     "data": {
      "text/plain": [
       "(7500,)"
      ]
     },
     "execution_count": 42,
     "metadata": {},
     "output_type": "execute_result"
    }
   ],
   "source": [
    "#делим на test и train\n",
    "X_train, X_test, y_train, y_test = sklearn.model_selection.train_test_split(\n",
    "    X, y\n",
    ")\n",
    "X_train.shape"
   ]
  },
  {
   "cell_type": "code",
   "execution_count": 43,
   "metadata": {},
   "outputs": [],
   "source": [
    "pipeline = Pipeline([\n",
    "    ('vectorizer', tfidf_vectorizer),\n",
    "    ('regression', LogisticRegression())\n",
    "])"
   ]
  },
  {
   "cell_type": "code",
   "execution_count": 46,
   "metadata": {},
   "outputs": [],
   "source": [
    "#не выводим варнинги\n",
    "import warnings\n",
    "warnings.filterwarnings(\"ignore\")"
   ]
  },
  {
   "cell_type": "code",
   "execution_count": 47,
   "metadata": {},
   "outputs": [],
   "source": [
    "#cross val\n",
    "scores = sklearn.model_selection.cross_val_score( pipeline, X_train, y_train , cv = 3 )"
   ]
  },
  {
   "cell_type": "code",
   "execution_count": 48,
   "metadata": {},
   "outputs": [
    {
     "data": {
      "text/plain": [
       "0.9679993033172218"
      ]
     },
     "execution_count": 48,
     "metadata": {},
     "output_type": "execute_result"
    }
   ],
   "source": [
    "# accuracy\n",
    "scores.mean()"
   ]
  },
  {
   "cell_type": "code",
   "execution_count": 49,
   "metadata": {},
   "outputs": [
    {
     "data": {
      "text/plain": [
       "Pipeline(memory=None,\n",
       "         steps=[('vectorizer',\n",
       "                 TfidfVectorizer(analyzer='word', binary=False,\n",
       "                                 decode_error='strict',\n",
       "                                 dtype=<class 'numpy.float64'>,\n",
       "                                 encoding='utf-8', input='content',\n",
       "                                 lowercase=True, max_df=0.8, max_features=5000,\n",
       "                                 min_df=0.002, ngram_range=(1, 3), norm='l2',\n",
       "                                 preprocessor=None, smooth_idf=True,\n",
       "                                 stop_words=['a', 'about', 'above', 'after',\n",
       "                                             'again', 'against', 'a...\n",
       "                                 strip_accents=None, sublinear_tf=False,\n",
       "                                 token_pattern='[a-zA-Zа-яА-Я_]{2,}',\n",
       "                                 tokenizer=None, use_idf=True,\n",
       "                                 vocabulary=None)),\n",
       "                ('regression',\n",
       "                 LogisticRegression(C=1.0, class_weight=None, dual=False,\n",
       "                                    fit_intercept=True, intercept_scaling=1,\n",
       "                                    l1_ratio=None, max_iter=100,\n",
       "                                    multi_class='warn', n_jobs=None,\n",
       "                                    penalty='l2', random_state=None,\n",
       "                                    solver='warn', tol=0.0001, verbose=0,\n",
       "                                    warm_start=False))],\n",
       "         verbose=False)"
      ]
     },
     "execution_count": 49,
     "metadata": {},
     "output_type": "execute_result"
    }
   ],
   "source": [
    "pipeline.fit(X_train, y_train)"
   ]
  },
  {
   "cell_type": "code",
   "execution_count": 50,
   "metadata": {},
   "outputs": [],
   "source": [
    "y_pred = pipeline.predict(X_test)"
   ]
  },
  {
   "cell_type": "code",
   "execution_count": 51,
   "metadata": {},
   "outputs": [
    {
     "name": "stdout",
     "output_type": "stream",
     "text": [
      "              precision    recall  f1-score   support\n",
      "\n",
      "politicsNews       0.98      0.98      0.98      1588\n",
      "   worldnews       0.96      0.97      0.97       913\n",
      "\n",
      "    accuracy                           0.97      2501\n",
      "   macro avg       0.97      0.97      0.97      2501\n",
      "weighted avg       0.97      0.97      0.97      2501\n",
      "\n"
     ]
    }
   ],
   "source": [
    "#classification_report\n",
    "print( sklearn.metrics.classification_report(\n",
    "    y_test, \n",
    "    y_pred,\n",
    "    target_names=[\"politicsNews\", \"worldnews\"]\n",
    ") )"
   ]
  },
  {
   "cell_type": "markdown",
   "metadata": {},
   "source": [
    "6 (7). Оптимизация и подбор наилучших гиперпатаметров и способа предобработки текстов.\n",
    "Играемся с параметрами TfidfVectorizer: max_df, min_df, max_features, ngram_range ((1,2) или (1,3)), чтобы максимально повысить качество предсказаний "
   ]
  },
  {
   "cell_type": "code",
   "execution_count": 55,
   "metadata": {},
   "outputs": [],
   "source": [
    "#определяем параметры\n",
    "params = {'vectorizer__max_df' : [0.5, 0.75], \n",
    "          'vectorizer__min_df' : [ 0.01, 0.1],\n",
    "          'vectorizer__max_features' : [100, 200, 500],\n",
    "          'vectorizer__ngram_range' : [(1, 2), (1, 3)], \n",
    "          'regression__C': [0.1, 1, 10]}"
   ]
  },
  {
   "cell_type": "code",
   "execution_count": 56,
   "metadata": {},
   "outputs": [
    {
     "data": {
      "text/plain": [
       "GridSearchCV(cv=3, error_score='raise-deprecating',\n",
       "             estimator=Pipeline(memory=None,\n",
       "                                steps=[('vectorizer',\n",
       "                                        TfidfVectorizer(analyzer='word',\n",
       "                                                        binary=False,\n",
       "                                                        decode_error='strict',\n",
       "                                                        dtype=<class 'numpy.float64'>,\n",
       "                                                        encoding='utf-8',\n",
       "                                                        input='content',\n",
       "                                                        lowercase=True,\n",
       "                                                        max_df=0.8,\n",
       "                                                        max_features=5000,\n",
       "                                                        min_df=0.002,\n",
       "                                                        ngram_range=(1, 3),\n",
       "                                                        norm='l2',\n",
       "                                                        preprocessor=None,\n",
       "                                                        smooth_idf=True,...\n",
       "                                                           solver='warn',\n",
       "                                                           tol=0.0001,\n",
       "                                                           verbose=0,\n",
       "                                                           warm_start=False))],\n",
       "                                verbose=False),\n",
       "             iid='warn', n_jobs=None,\n",
       "             param_grid={'regression__C': [0.1, 1, 10],\n",
       "                         'vectorizer__max_df': [0.5, 0.75],\n",
       "                         'vectorizer__max_features': [100, 200, 500],\n",
       "                         'vectorizer__min_df': [0.01, 0.1],\n",
       "                         'vectorizer__ngram_range': [(1, 2), (1, 3)]},\n",
       "             pre_dispatch='2*n_jobs', refit=True, return_train_score=False,\n",
       "             scoring=None, verbose=0)"
      ]
     },
     "execution_count": 56,
     "metadata": {},
     "output_type": "execute_result"
    }
   ],
   "source": [
    "grid = GridSearchCV(\n",
    "    pipeline, params, cv = 3\n",
    ")\n",
    "grid.fit(X_train, y_train)"
   ]
  },
  {
   "cell_type": "markdown",
   "metadata": {},
   "source": [
    "7 (8). Подводим итоги: параметры наилучшей модели и получившиеся при них метрики классификации."
   ]
  },
  {
   "cell_type": "code",
   "execution_count": 57,
   "metadata": {},
   "outputs": [
    {
     "data": {
      "text/plain": [
       "({'regression__C': 10,\n",
       "  'vectorizer__max_df': 0.75,\n",
       "  'vectorizer__max_features': 500,\n",
       "  'vectorizer__min_df': 0.01,\n",
       "  'vectorizer__ngram_range': (1, 3)},\n",
       " 0.9553333333333334)"
      ]
     },
     "execution_count": 57,
     "metadata": {},
     "output_type": "execute_result"
    }
   ],
   "source": [
    "#наилучшие параметры regression__C 10, max_df 0.75, min_df 0.01, max_features 500, ngram_range (1, 3).\n",
    "grid.best_params_, grid.best_score_"
   ]
  },
  {
   "cell_type": "markdown",
   "metadata": {},
   "source": [
    "8 (9). Строим confusion matrix (см. ЛР4) для оценки того, какие ошибки классификатор допускает наиболее часто."
   ]
  },
  {
   "cell_type": "code",
   "execution_count": 59,
   "metadata": {},
   "outputs": [
    {
     "data": {
      "text/plain": [
       "<matplotlib.axes._subplots.AxesSubplot at 0x26eb5888>"
      ]
     },
     "execution_count": 59,
     "metadata": {},
     "output_type": "execute_result"
    },
    {
     "data": {
      "image/png": "[encoded data removed]",
      "text/plain": [
       "<Figure size 432x288 with 2 Axes>"
      ]
     },
     "metadata": {
      "needs_background": "light"
     },
     "output_type": "display_data"
    }
   ],
   "source": [
    "import seaborn as sns\n",
    "columns = ['politics', 'world']\n",
    "confusion_scores = sklearn.metrics.confusion_matrix(y_test, grid.predict(X_test))\n",
    "confusion_df = pd.DataFrame(confusion_scores, columns = columns, index = columns)\n",
    "sns.heatmap(confusion_df, annot = True)"
   ]
  }
 ],
 "metadata": {
  "kernelspec": {
   "display_name": "Python 3",
   "language": "python",
   "name": "python3"
  },
  "language_info": {
   "codemirror_mode": {
    "name": "ipython",
    "version": 3
   },
   "file_extension": ".py",
   "mimetype": "text/x-python",
   "name": "python",
   "nbconvert_exporter": "python",
   "pygments_lexer": "ipython3",
   "version": "3.7.4"
  }
 },
 "nbformat": 4,
 "nbformat_minor": 2
}
